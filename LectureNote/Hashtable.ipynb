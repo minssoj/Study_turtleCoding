{
  "nbformat": 4,
  "nbformat_minor": 0,
  "metadata": {
    "colab": {
      "name": "Hashtable.ipynb",
      "provenance": []
    },
    "kernelspec": {
      "name": "python3",
      "display_name": "Python 3"
    },
    "language_info": {
      "name": "python"
    }
  },
  "cells": [
    {
      "cell_type": "markdown",
      "source": [
        "# 해시테이블\n",
        "- 키를 값에 매핑할 수 있는 구조인 연관 배열 추상 자료형을 구현하는 자료구조\n",
        "- key-value쌍으로 저장하는 자료구조\n",
        "- ex) python의 딕셔너리\n",
        "- index를 이용한 방식으로 시간복잡도 O(1)으로 빠르게 데이터에 접근 가능\n",
        "- 버킷(bucket)\n",
        "    - 해시테이블 배열의 각 원소\n",
        "    - 충돌 발생시 연결리스트를 이용해 여러개의 데이터를 저장 가능(슬롯)\n",
        "    - 버킷 = 행, 슬롯 = 열\n",
        "\n",
        "# 해시함수\n",
        "- 임의 크기 데이터를 고정 크기 값으로 매핑하는 함수\n",
        "- 해시함수를 이용해 인덱스를 뽑아내는 것을 해싱이라 한다.\n",
        "    - 해싱은 빠르게 저장하고 검색하는 데 중요한 기법으로 최적의 검색이 필요한 분야에 많이 사용됨\n",
        "- ex) key : 10 => 해시함수(10) => index : 1\n",
        "- 해시함수의 종류\n",
        "    - 나눗셈 방식(modulo division method)\n",
        "        - 입력값을 해시테이블의 크기로 나누는 것.\n",
        "        - h(x) = x mod m (x:입력값, m:테이블 크기)\n",
        "    - digit folding\n",
        "    - multiplication method\n",
        "    - universal hashing\n",
        "- 해시의 문제점 : 충돌\n",
        "\n",
        "# 충돌\n",
        "- Ex)\n",
        "    - key : 10 -> 해싱 -> index : 1\n",
        "    - key : 20 -> 해싱 -> index : 1\n",
        "    - 인덱스 중복\n",
        "- 생일문제\n",
        "    - 충돌은 생각보다 쉽게 일어난다를 보여주는 문제\n",
        "- 비둘기집문제\n",
        "    - n개 아이템을 m개 컨테이너에 넣을 경우(n>m) 하나의 컨테이너에는 2개 이상의 아이템이 들어간다\n",
        "\n",
        "# 충돌 해결법\n",
        "- 개별 체이닝(seperate chaining) p.286\n",
        "    - 동일한 버킷에 접근 시 연결리스트로 연결하는 방식\n",
        "    - 테이블 확장할 필요 없음\n",
        "    - 간단한 구현\n",
        "    - 손쉬운 삭제\n",
        "    - 데이터의 수가 많아질 경우 연결리스트가 길어지고 캐시의 효율성 감소\n",
        "\n",
        "- 오픈 어드레싱(open addressing) p287\n",
        "    - 해시테이블의 빈공간을 찾아 값을 저장하는 방식\n",
        "    - 테이블 개수 이상은 저장할 수 없다.\n",
        "    - 파이썬에서 사용하는 충돌 해결방법\n",
        "    - 종류\n",
        "        - linear probing\n",
        "        - quadratic probing\n",
        "        - double hashing proning\n",
        "    - linear probing\n",
        "        - 해당 위치에서 순차적으로 빈공간 찾기\n",
        "        - 간단하면서 성능이 좋은 편\n",
        "\n",
        "    - linear probing의 문제점\n",
        "        - 해시 테이블의 이곳저곳에 데이터가 뭉치는 현상(클러스터링)\n",
        "        - 클러스터가 커지면 인근 클러스터와 합쳐지고 그렇게되면 테이블의 특정영역에는 데이터가 몰려있고 특정영역에는 데이터가 없는 현상이 발생\n",
        "        - 탐사시간이 길어지고 해싱 효율이 떨어짐\n"
      ],
      "metadata": {
        "id": "OttHipdLD9pb"
      }
    },
    {
      "cell_type": "markdown",
      "source": [
        "## 28번. 해시맵 디자인"
      ],
      "metadata": {
        "id": "-OIIKh-JjBAl"
      }
    },
    {
      "cell_type": "code",
      "source": [
        "import collections\n",
        "\n",
        "# 키,값을 보관하고 연결리스트로 처리할 클래스 구현\n",
        "\n",
        "class ListNode:\n",
        "    def __init__(self, key=None, value=None):\n",
        "        self.key = key\n",
        "        self.value = value \n",
        "        self.next = None\n",
        "\n",
        "# 개별 체이닝 방식\n",
        "\n",
        "class MyHashMap:\n",
        "    def __init__(self):\n",
        "        # 초기화\n",
        "        self.size = 1000  # 기본사이즈 = 1000\n",
        "        self.table = collections.defaultdict(ListNode) # 기본자료형 선언. + defaultdict를 통해 \n",
        "\n",
        "    def put(self, key: int, value: int)-> None:\n",
        "\n",
        "        # 해싱한 결과값. 해시 테이블의 인덱스.\n",
        "        index = key % self.size \n",
        "\n",
        "        # 인덱스에 노드가 없을 경우 해시테이블에 키,값 넣고 종료\n",
        "        if self.table[index].value is None: \n",
        "            self.table[index] = ListNode(key, value)\n",
        "            return\n",
        "\n",
        "        # 인덱스에 노드가 있을 경우. 연결리스트로 처리\n",
        "        p = self.table[index]\n",
        "        while p:\n",
        "            if p.key == key: # 키값이 동일할 경우 값을 업데이트. \n",
        "                p.value = value\n",
        "                return\n",
        "            if p.next is None: # 연결리스트가 없다면 종료\n",
        "                break\n",
        "            p = p.next # 연결리스트의 끝까지 이동\n",
        "        p.next = ListNode(key, value) # 연결리스트에 입력값을 삽입\n",
        "    \n",
        "    def get(self, key:int) -> int:\n",
        "        index = key % self.size\n",
        "        if self.table[index].value is None:\n",
        "            return -1\n",
        "        \n",
        "        # 노드가 존재할 때 일치하는 키 탐색\n",
        "        p = self.table[index]\n",
        "        while p:\n",
        "            if p.key == key:\n",
        "                return p.value\n",
        "            p = p.next\n",
        "        return -1\n",
        "\n",
        "\n",
        "\n",
        "    def remove(self,key: int) -> None:\n",
        "        index = key % self.size\n",
        "        if self.table[index].value is None:\n",
        "            return\n",
        "        \n",
        "        # 인덱스의 첫 번째 노드일 때 삭제 처리\n",
        "        p = self.table[index]\n",
        "        if p.key == key:\n",
        "            self.table[index] = ListNode() if p.next is None else p.next\n",
        "            return\n",
        "\n",
        "        # 연결 리스트 노드 삭제\n",
        "        prev = p\n",
        "        while p:\n",
        "            if p.key == key:\n",
        "                prev.next = p.next\n",
        "                return\n",
        "            prev, p = p, next\n",
        "\n",
        "    "
      ],
      "metadata": {
        "id": "o_lOQs7ajG5B"
      },
      "execution_count": null,
      "outputs": []
    },
    {
      "cell_type": "code",
      "source": [
        "hashmap = MyHashMap()"
      ],
      "metadata": {
        "id": "maVsm_kJmQtY"
      },
      "execution_count": null,
      "outputs": []
    },
    {
      "cell_type": "code",
      "source": [
        "hashmap.put(1,1)\n",
        "hashmap.put(2,2)"
      ],
      "metadata": {
        "id": "6oX88WkJWC99"
      },
      "execution_count": null,
      "outputs": []
    },
    {
      "cell_type": "code",
      "source": [
        "print(hashmap.get(1))\n",
        "print(hashmap.get(3))"
      ],
      "metadata": {
        "colab": {
          "base_uri": "https://localhost:8080/"
        },
        "id": "M9Eo2Ho0WM3N",
        "outputId": "9dd41c4b-386b-4439-d266-01abadda3d8f"
      },
      "execution_count": null,
      "outputs": [
        {
          "output_type": "stream",
          "name": "stdout",
          "text": [
            "1\n",
            "-1\n"
          ]
        }
      ]
    },
    {
      "cell_type": "code",
      "source": [
        "hashmap.put(2,1)\n",
        "hashmap.get(2)"
      ],
      "metadata": {
        "colab": {
          "base_uri": "https://localhost:8080/"
        },
        "id": "_aqEgnCSWN14",
        "outputId": "33dac38e-e997-4a97-c240-f5c074ae095e"
      },
      "execution_count": null,
      "outputs": [
        {
          "output_type": "execute_result",
          "data": {
            "text/plain": [
              "1"
            ]
          },
          "metadata": {},
          "execution_count": 9
        }
      ]
    },
    {
      "cell_type": "code",
      "source": [
        "\n",
        "\n",
        "    "
      ],
      "metadata": {
        "id": "IbgMQjxoWaqf"
      },
      "execution_count": null,
      "outputs": []
    }
  ]
}