{
  "nbformat": 4,
  "nbformat_minor": 0,
  "metadata": {
    "colab": {
      "name": "turtleCoding.ipynb",
      "provenance": [],
      "collapsed_sections": []
    },
    "kernelspec": {
      "name": "python3",
      "display_name": "Python 3"
    },
    "language_info": {
      "name": "python"
    }
  },
  "cells": [
    {
      "cell_type": "markdown",
      "source": [
        "# 29. 보석과 돌"
      ],
      "metadata": {
        "id": "9BhXpSXvtI5D"
      }
    },
    {
      "cell_type": "code",
      "execution_count": null,
      "metadata": {
        "id": "r8xW0VL0tBUv"
      },
      "outputs": [],
      "source": [
        "J = 'aAB'\n",
        "S = 'aAAbbbb'"
      ]
    },
    {
      "cell_type": "markdown",
      "source": [
        "### A. 해시 테이블을 이용한 풀이"
      ],
      "metadata": {
        "id": "JXwuKkLItYEL"
      }
    },
    {
      "cell_type": "code",
      "source": [
        "def solutions(J, S):\n",
        "  count = 0\n",
        "  freqs = {}\n",
        "  \n",
        "  for char in S:\n",
        "    if char not in freqs:\n",
        "      freqs[char] = 1\n",
        "    else:\n",
        "      freqs[char] += 1\n",
        "  \n",
        "  for char in J:\n",
        "    if char in freqs:\n",
        "      count += freqs[char]\n",
        "\n",
        "  return count\n",
        "print(solutions(J, S))"
      ],
      "metadata": {
        "colab": {
          "base_uri": "https://localhost:8080/"
        },
        "id": "GkXPPnkbtWWU",
        "outputId": "8c389fa5-767e-415d-c904-a11260af524c"
      },
      "execution_count": null,
      "outputs": [
        {
          "output_type": "stream",
          "name": "stdout",
          "text": [
            "3\n"
          ]
        }
      ]
    },
    {
      "cell_type": "markdown",
      "source": [
        "## B. deaultdict를 이용한 비교 생략"
      ],
      "metadata": {
        "id": "V0Rnd6E_tayQ"
      }
    },
    {
      "cell_type": "code",
      "source": [
        "import collections\n",
        "def solutions(J, S):\n",
        "  count = 0\n",
        "  freqs = collections.defaultdict(int)\n",
        "\n",
        "  for char in S:\n",
        "    freqs[char] += 1\n",
        "  \n",
        "  for char in J:\n",
        "    count += freqs[char]\n",
        "  \n",
        "  return count\n",
        "print(solutions(J, S))"
      ],
      "metadata": {
        "colab": {
          "base_uri": "https://localhost:8080/"
        },
        "id": "7KykuvrZtWfj",
        "outputId": "2a0667fb-f2c2-4a9c-c6e7-65518a10b46f"
      },
      "execution_count": null,
      "outputs": [
        {
          "output_type": "stream",
          "name": "stdout",
          "text": [
            "3\n"
          ]
        }
      ]
    },
    {
      "cell_type": "markdown",
      "source": [
        "## C. Counter로 계산 생략"
      ],
      "metadata": {
        "id": "IUs8lZyvtbcK"
      }
    },
    {
      "cell_type": "code",
      "source": [
        "def solutions(J, S):\n",
        "  count = 0\n",
        "  freqs = collections.Counter(S)\n",
        "\n",
        "  for char in J:\n",
        "    count += freqs[char]\n",
        "  \n",
        "  return count\n",
        "print(solutions(J, S))"
      ],
      "metadata": {
        "colab": {
          "base_uri": "https://localhost:8080/"
        },
        "id": "mTtz_HcTtWna",
        "outputId": "43979230-f199-4fc2-f95b-39038ac477f7"
      },
      "execution_count": null,
      "outputs": [
        {
          "output_type": "stream",
          "name": "stdout",
          "text": [
            "3\n"
          ]
        }
      ]
    },
    {
      "cell_type": "markdown",
      "source": [
        "## D. 파이썬다운 방식"
      ],
      "metadata": {
        "id": "GmzH_bEetcIb"
      }
    },
    {
      "cell_type": "code",
      "source": [
        "def solutions(J, S):\n",
        "  return sum(s in J for s in S)\n",
        "print(solutions(J, S))"
      ],
      "metadata": {
        "colab": {
          "base_uri": "https://localhost:8080/"
        },
        "id": "HGdK3PVCtc4_",
        "outputId": "a5895faa-625f-44b4-b744-6a190b470bbb"
      },
      "execution_count": null,
      "outputs": [
        {
          "output_type": "stream",
          "name": "stdout",
          "text": [
            "3\n"
          ]
        }
      ]
    },
    {
      "cell_type": "code",
      "source": [
        ""
      ],
      "metadata": {
        "id": "TIQsV97w2XvL"
      },
      "execution_count": null,
      "outputs": []
    }
  ]
}