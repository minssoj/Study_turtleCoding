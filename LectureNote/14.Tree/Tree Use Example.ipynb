{
 "cells": [
  {
   "cell_type": "code",
   "execution_count": 1,
   "metadata": {},
   "outputs": [],
   "source": [
    "from BinarySearchTree import Node, BinarySearchTree"
   ]
  },
  {
   "cell_type": "code",
   "execution_count": 2,
   "metadata": {},
   "outputs": [
    {
     "name": "stdout",
     "output_type": "stream",
     "text": [
      "  _5  \n",
      " /  \\ \n",
      " 3  6 \n",
      "/ \\  \\\n",
      "1 2  7\n"
     ]
    }
   ],
   "source": [
    "# Basic Usage 1\n",
    "n1 = Node(5)\n",
    "n2 = Node(3)\n",
    "n3 = Node(6)\n",
    "n4 = Node(1)\n",
    "n5 = Node(2)\n",
    "n6 = Node(7)\n",
    "\n",
    "n1.left = n2\n",
    "n1.right = n3\n",
    "n2.left = n4\n",
    "n2.right = n5\n",
    "n3.right = n6\n",
    "\n",
    "n1.display()"
   ]
  },
  {
   "cell_type": "code",
   "execution_count": 3,
   "metadata": {},
   "outputs": [
    {
     "name": "stdout",
     "output_type": "stream",
     "text": [
      "    _A  \n",
      "   /  \\ \n",
      "  _B  C \n",
      " /  \\  \\\n",
      " D  E  F\n",
      "/ \\     \n",
      "G H     \n"
     ]
    }
   ],
   "source": [
    "# Basic Usage 2\n",
    "\n",
    "n1 = Node('A')\n",
    "n2 = Node('B')\n",
    "n3 = Node('C')\n",
    "n4 = Node('D')\n",
    "n5 = Node('E')\n",
    "n6 = Node('F')\n",
    "n7 = Node('G')\n",
    "n8 = Node('H')\n",
    "\n",
    "n1.left = n2\n",
    "n1.right = n3\n",
    "\n",
    "n2.left = n4\n",
    "n2.right = n5\n",
    "\n",
    "n3.right = n6\n",
    "\n",
    "n4.left = n7\n",
    "n4.right = n8\n",
    "\n",
    "n1.display()"
   ]
  },
  {
   "cell_type": "code",
   "execution_count": 4,
   "metadata": {},
   "outputs": [
    {
     "name": "stdout",
     "output_type": "stream",
     "text": [
      "  _4_   \n",
      " /   \\  \n",
      " 2   8_ \n",
      "/ \\ /  \\\n",
      "1 3 5 10\n"
     ]
    }
   ],
   "source": [
    "# Insert item in tree\n",
    "bst = BinarySearchTree()\n",
    "data = [4, 2, 8, 1, 3, 5, 10]\n",
    "for item in data:\n",
    "    bst.insert(item)\n",
    "\n",
    "bst.root.display()"
   ]
  },
  {
   "cell_type": "code",
   "execution_count": 5,
   "metadata": {},
   "outputs": [
    {
     "name": "stdout",
     "output_type": "stream",
     "text": [
      "  _4_ \n",
      " /   \\\n",
      " 2   8\n",
      "/ \\ / \n",
      "1 3 5 \n"
     ]
    }
   ],
   "source": [
    "# Delete item in tree\n",
    "bst.delete(10)\n",
    "bst.root.display()"
   ]
  },
  {
   "cell_type": "code",
   "execution_count": 6,
   "metadata": {},
   "outputs": [
    {
     "name": "stdout",
     "output_type": "stream",
     "text": [
      "8\n",
      "1\n"
     ]
    }
   ],
   "source": [
    "# find min, max in tree\n",
    "print(bst.find_max())\n",
    "print(bst.find_min())"
   ]
  },
  {
   "cell_type": "code",
   "execution_count": 7,
   "metadata": {},
   "outputs": [
    {
     "name": "stdout",
     "output_type": "stream",
     "text": [
      "    ___10_________         \n",
      "   /              \\        \n",
      "  _5_          __16_______ \n",
      " /   \\        /           \\\n",
      " 3   8     __13_       __20\n",
      "/ \\ / \\   /     \\     /    \n",
      "1 4 7 9  11_   14    18_   \n",
      "            \\       /   \\  \n",
      "           12      17  19  \n"
     ]
    }
   ],
   "source": [
    "data = [10, 5, 16, 3, 8, 13, 20, 1, 4, 7, 9, 11, 14, 18, 19, 12, 17]\n",
    "bst2 = BinarySearchTree()\n",
    "for item in data:\n",
    "    bst2.insert(item)\n",
    "bst2.root.display()"
   ]
  },
  {
   "cell_type": "code",
   "execution_count": 11,
   "metadata": {},
   "outputs": [
    {
     "name": "stdout",
     "output_type": "stream",
     "text": [
      "10 \n",
      "5 16 \n",
      "16 3 8 \n",
      "3 8 13 20 \n",
      "8 13 20 1 4 \n",
      "13 20 1 4 7 9 \n",
      "20 1 4 7 9 11 14 \n",
      "1 4 7 9 11 14 18 \n",
      "4 7 9 11 14 18 \n",
      "7 9 11 14 18 \n",
      "9 11 14 18 \n",
      "11 14 18 \n",
      "14 18 12 \n",
      "18 12 \n",
      "12 17 19 \n",
      "17 19 \n",
      "19 \n",
      "10 5 16 3 8 13 20 1 4 7 9 11 14 18 12 17 19 "
     ]
    }
   ],
   "source": [
    "# BST\n",
    "result = bst2.breadth_first_traversal()\n",
    "for item in result:\n",
    "    print(item, end=\" \")"
   ]
  },
  {
   "cell_type": "code",
   "execution_count": 12,
   "metadata": {},
   "outputs": [
    {
     "name": "stdout",
     "output_type": "stream",
     "text": [
      "1 3 4 5 7 8 9 10 11 12 13 14 16 17 18 19 20 \n",
      "10 5 3 1 4 8 7 9 16 13 11 12 14 20 18 17 19 \n",
      "1 4 3 7 9 8 5 12 11 14 13 17 19 18 20 16 10 \n"
     ]
    }
   ],
   "source": [
    "# DST \n",
    "# 1. inorder\n",
    "bst2.inorder(bst2.root)\n",
    "print()\n",
    "# 2. preorder\n",
    "bst2.preorder(bst2.root)\n",
    "print()\n",
    "# 3. postorder\n",
    "bst2.postorder(bst2.root)\n",
    "print()\n"
   ]
  },
  {
   "cell_type": "code",
   "execution_count": null,
   "metadata": {},
   "outputs": [],
   "source": []
  },
  {
   "cell_type": "code",
   "execution_count": null,
   "metadata": {},
   "outputs": [],
   "source": []
  },
  {
   "cell_type": "code",
   "execution_count": null,
   "metadata": {},
   "outputs": [],
   "source": []
  }
 ],
 "metadata": {
  "interpreter": {
   "hash": "d140adae42a991383e5c18aeee22abe8a292125accc773eba712a0da08742605"
  },
  "kernelspec": {
   "display_name": "Python 3.8.12 64-bit ('test': conda)",
   "language": "python",
   "name": "python3"
  },
  "language_info": {
   "codemirror_mode": {
    "name": "ipython",
    "version": 3
   },
   "file_extension": ".py",
   "mimetype": "text/x-python",
   "name": "python",
   "nbconvert_exporter": "python",
   "pygments_lexer": "ipython3",
   "version": "3.7.11"
  },
  "orig_nbformat": 4
 },
 "nbformat": 4,
 "nbformat_minor": 2
}
