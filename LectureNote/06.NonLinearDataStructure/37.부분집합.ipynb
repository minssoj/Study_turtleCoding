{
  "nbformat": 4,
  "nbformat_minor": 0,
  "metadata": {
    "colab": {
      "name": "12.graph",
      "provenance": [],
      "collapsed_sections": []
    },
    "kernelspec": {
      "name": "python3",
      "display_name": "Python 3"
    },
    "language_info": {
      "name": "python"
    }
  },
  "cells": [
    {
      "cell_type": "markdown",
      "source": [
        "## 37. 부분집합\n",
        "모든 부분 집합을 리턴하라"
      ],
      "metadata": {
        "id": "Zefmmlr5xLms"
      }
    },
    {
      "cell_type": "code",
      "execution_count": 2,
      "metadata": {
        "id": "gpbPhXr9w0G-"
      },
      "outputs": [],
      "source": [
        "nums = [1, 2, 3]"
      ]
    },
    {
      "cell_type": "code",
      "source": [
        "def solutions(nums):\n",
        "  answers = []\n",
        "\n",
        "  def dfs(idx, path):\n",
        "    answers.append(path)\n",
        "\n",
        "    for i in range(idx, len(nums)):\n",
        "      dfs(i+1, path + [nums[i]])\n",
        "\n",
        "  dfs(0, [])\n",
        "  return answers"
      ],
      "metadata": {
        "id": "138soDOUxKBX"
      },
      "execution_count": 3,
      "outputs": []
    },
    {
      "cell_type": "code",
      "source": [
        "print(solutions(nums))"
      ],
      "metadata": {
        "colab": {
          "base_uri": "https://localhost:8080/"
        },
        "id": "Yw42N8fq-S47",
        "outputId": "9053dc5e-6c26-4ba5-b9dc-11ef03c56735"
      },
      "execution_count": 4,
      "outputs": [
        {
          "output_type": "stream",
          "name": "stdout",
          "text": [
            "[[], [1], [1, 2], [1, 2, 3], [1, 3], [2], [2, 3], [3]]\n"
          ]
        }
      ]
    },
    {
      "cell_type": "code",
      "source": [
        "ex = [1, 2]\n",
        "print(ex+[3])"
      ],
      "metadata": {
        "colab": {
          "base_uri": "https://localhost:8080/"
        },
        "id": "PhRYuRsl-XVx",
        "outputId": "d4a35bde-f09b-4257-ebb2-182acc39ae8e"
      },
      "execution_count": 5,
      "outputs": [
        {
          "output_type": "stream",
          "name": "stdout",
          "text": [
            "[1, 2, 3]\n"
          ]
        }
      ]
    },
    {
      "cell_type": "code",
      "source": [
        ""
      ],
      "metadata": {
        "id": "LY5WYiB9-em9"
      },
      "execution_count": null,
      "outputs": []
    }
  ]
}