{
 "cells": [
  {
   "cell_type": "code",
   "execution_count": 108,
   "id": "6c669e10",
   "metadata": {},
   "outputs": [],
   "source": [
    "class TreeNode:\n",
    "    # 생성자 Constructor\n",
    "    # 멤버변수를 초기화한다.\n",
    "    # 클래스의 구성요소 : 생성자, 멤버변수, 멤버함수(메소드)\n",
    "    # 인스턴스 : 클래스를 통해서 생성한 객체\n",
    "    # . : 멤버접근연산자 인스턴스를 할당하고 멤버에 접근하게해준다\n",
    "    # 상속\n",
    "   \n",
    "    def __init__(self, data):\n",
    "        self.left = None\n",
    "        self.right = None\n",
    "        self.data = data\n",
    "    \n",
    "     # 매직메소드 \n",
    "#     def __str__(self):\n",
    "#         return f\"left : {self.left}, right : {self.right}, value : {self.data}\"\n",
    "    \n",
    "    def __str__(self):\n",
    "        return str(self.data)\n",
    "    \n",
    "    \n",
    "    \n",
    "# Depth First Search    \n",
    "# ----------------------------\n",
    "    # 전, 중, 후의 기준은 현재 노드 기준\n",
    "    # 중위 방문 L -> C -> R\n",
    "    def inorder(self, root_node):\n",
    "        # 루트 노드에 방문\n",
    "        current = root_node\n",
    "        if current is None:\n",
    "            return\n",
    "        self.inorder(current.left) # L\n",
    "        print(current, end=\" \") # C\n",
    "        self.inorder(current.right) # R\n",
    "        \n",
    "    # 전위 방문 : C -> L -> R\n",
    "    def preorder(self, root_node):\n",
    "        current = root_node\n",
    "        if current is None:\n",
    "            return\n",
    "        print(current, end=\" \") # C\n",
    "        self.preorder(current.left) # L\n",
    "        self.preorder(current.right) # R\n",
    "    \n",
    "    # 후위 방문 : L -> R -> C\n",
    "    def postorder(self, root_node):\n",
    "        current = root_node\n",
    "        if current is None:\n",
    "            return\n",
    "        self.postorder(current.left) # L\n",
    "        self.postorder(current.right) # R\n",
    "        print(current, end=\" \") # C\n",
    "    \n",
    "    def display(self):\n",
    "        lines, *_ = self._display_aux()\n",
    "        for line in lines:\n",
    "            print(line)\n",
    "\n",
    "    def _display_aux(self):\n",
    "        \"\"\"Returns list of strings, width, height, and horizontal coordinate of the root.\"\"\"\n",
    "        # No child.\n",
    "        if self.right is None and self.left is None:\n",
    "            line = '%s' % self.data\n",
    "            width = len(line)\n",
    "            height = 1\n",
    "            middle = width // 2\n",
    "            return [line], width, height, middle\n",
    "\n",
    "        # Only left child.\n",
    "        if self.right is None:\n",
    "            lines, n, p, x = self.left._display_aux()\n",
    "            s = '%s' % self.data\n",
    "            u = len(s)\n",
    "            first_line = (x + 1) * ' ' + (n - x - 1) * '_' + s\n",
    "            second_line = x * ' ' + '/' + (n - x - 1 + u) * ' '\n",
    "            shifted_lines = [line + u * ' ' for line in lines]\n",
    "            return [first_line, second_line] + shifted_lines, n + u, p + 2, n + u // 2\n",
    "\n",
    "        # Only right child.\n",
    "        if self.left is None:\n",
    "            lines, n, p, x = self.right._display_aux()\n",
    "            s = '%s' % self.data\n",
    "            u = len(s)\n",
    "            first_line = s + x * '_' + (n - x) * ' '\n",
    "            second_line = (u + x) * ' ' + '\\\\' + (n - x - 1) * ' '\n",
    "            shifted_lines = [u * ' ' + line for line in lines]\n",
    "            return [first_line, second_line] + shifted_lines, n + u, p + 2, u // 2\n",
    "\n",
    "        # Two children.\n",
    "        left, n, p, x = self.left._display_aux()\n",
    "        right, m, q, y = self.right._display_aux()\n",
    "        s = '%s' % self.data\n",
    "        u = len(s)\n",
    "        first_line = (x + 1) * ' ' + (n - x - 1) * '_' + s + y * '_' + (m - y) * ' '\n",
    "        second_line = x * ' ' + '/' + (n - x - 1 + u + y) * ' ' + '\\\\' + (m - y - 1) * ' '\n",
    "        if p < q:\n",
    "            left += [n * ' '] * (q - p)\n",
    "        elif q < p:\n",
    "            right += [m * ' '] * (p - q)\n",
    "        zipped_lines = zip(left, right)\n",
    "        lines = [first_line, second_line] + [a + u * ' ' + b for a, b in zipped_lines]\n",
    "        return lines, n + m + u, max(p, q) + 2, n + u // 2\n"
   ]
  },
  {
   "cell_type": "code",
   "execution_count": 36,
   "id": "01eaede7",
   "metadata": {},
   "outputs": [],
   "source": [
    "n1 = TreeNode(1)\n",
    "n2 = TreeNode(2)\n",
    "n3 = TreeNode(3)"
   ]
  },
  {
   "cell_type": "code",
   "execution_count": 37,
   "id": "2974ebd2",
   "metadata": {},
   "outputs": [
    {
     "name": "stdout",
     "output_type": "stream",
     "text": [
      "1\n"
     ]
    }
   ],
   "source": [
    "print(n1)"
   ]
  },
  {
   "cell_type": "code",
   "execution_count": 38,
   "id": "2c20ec26",
   "metadata": {},
   "outputs": [
    {
     "name": "stdout",
     "output_type": "stream",
     "text": [
      "1\n"
     ]
    }
   ],
   "source": [
    "# 1 : 부모노드\n",
    "# 2 : 왼쪽 자식 노드\n",
    "# 3 : 오른쪽 자식 노드\n",
    "n1.left = n2\n",
    "n1.right = n3\n",
    "\n",
    "print(n1)"
   ]
  },
  {
   "cell_type": "code",
   "execution_count": 39,
   "id": "b8be503c",
   "metadata": {},
   "outputs": [],
   "source": [
    "n1 = TreeNode(5)\n",
    "n2 = TreeNode(3)\n",
    "n3 = TreeNode(6)\n",
    "n4 = TreeNode(1)\n",
    "n5 = TreeNode(2)\n",
    "n6 = TreeNode(7)\n",
    "\n",
    "n1.left = n2\n",
    "n1.right = n3\n",
    "n2.left = n4\n",
    "n2.right = n5\n",
    "n3.right = n6\n",
    "\n",
    "# 1 -> 3 -> 2 -> 5 -> 6 -> 7"
   ]
  },
  {
   "cell_type": "code",
   "execution_count": 40,
   "id": "dfe01f3d",
   "metadata": {},
   "outputs": [
    {
     "name": "stdout",
     "output_type": "stream",
     "text": [
      "1 3 2 5 6 7 "
     ]
    }
   ],
   "source": [
    "n1.inorder(n1)"
   ]
  },
  {
   "cell_type": "code",
   "execution_count": 41,
   "id": "ccd40413",
   "metadata": {},
   "outputs": [
    {
     "name": "stdout",
     "output_type": "stream",
     "text": [
      "A B D G H E C F "
     ]
    }
   ],
   "source": [
    "n1 = TreeNode('A')\n",
    "n2 = TreeNode('B')\n",
    "n3 = TreeNode('C')\n",
    "n4 = TreeNode('D')\n",
    "n5 = TreeNode('E')\n",
    "n6 = TreeNode('F')\n",
    "n7 = TreeNode('G')\n",
    "n8 = TreeNode('H')\n",
    "\n",
    "n1.left = n2\n",
    "n1.right = n3\n",
    "\n",
    "n2.left = n4\n",
    "n2.right = n5\n",
    "\n",
    "n3.right = n6\n",
    "\n",
    "n4.left = n7\n",
    "n4.right = n8\n",
    "\n",
    "n1.preorder(n1)"
   ]
  },
  {
   "cell_type": "code",
   "execution_count": 42,
   "id": "1b9dd48e",
   "metadata": {},
   "outputs": [
    {
     "name": "stdout",
     "output_type": "stream",
     "text": [
      "G H D E B F C A "
     ]
    }
   ],
   "source": [
    "n1.postorder(n1)"
   ]
  },
  {
   "cell_type": "code",
   "execution_count": 148,
   "id": "fee8af84",
   "metadata": {},
   "outputs": [],
   "source": [
    "from collections import deque\n",
    "class Tree:\n",
    "    def __init__(self):\n",
    "        self.root_node = None\n",
    "        \n",
    "    def find_min(self):\n",
    "        # 루트 노드 방문\n",
    "        current = self.root_node\n",
    "        while current.left:\n",
    "            current = current.left\n",
    "        return current\n",
    "    \n",
    "    def find_max(self):\n",
    "        current = self.root_node\n",
    "        while current.right:\n",
    "            current = current.right\n",
    "        return current\n",
    "    \n",
    "    def insert(self, data):\n",
    "        # 데이터를 노드에 저장한다.\n",
    "        node = TreeNode(data)\n",
    "        \n",
    "        # 루트 노드가 없는 경우\n",
    "        if self.root_node is None:\n",
    "            self.root_node = node\n",
    "            return\n",
    "            \n",
    "        # 루트 노드가 존재하는 경우\n",
    "        else:\n",
    "            # current : 현재 탐색 중인 위치\n",
    "            current = self.root_node\n",
    "            parent = None\n",
    "        while True:\n",
    "            parent = current # 4가 이미 있는데, 1을 넣고싶음\n",
    "            if node.data < parent.data:\n",
    "                current = current.left\n",
    "                if current is None:\n",
    "                    parent.left = node\n",
    "                    return\n",
    "            else:\n",
    "                current = current.right\n",
    "                if current is None:\n",
    "                    parent.right = node\n",
    "                    return\n",
    "                \n",
    "    def get_node_with_parent(self, data):\n",
    "        # 입력으로 들어온 데이터의 노드와 부모를 찾는다.\n",
    "        parent = None\n",
    "        current = self.root_node # 루트노트부터 탐색시작\n",
    "        if current is None: # 만약 루트노드가 없으면\n",
    "            return (parent, None)\n",
    "        while True:\n",
    "            if current.data == data:\n",
    "                return (parent, current)\n",
    "            elif current.data > data:\n",
    "                parent = current\n",
    "                current = current.left\n",
    "            else: # 현재 노드 데이터가 입력보다 작은 경우\n",
    "                parent = current\n",
    "                current = current.right\n",
    "        return (parent, current)\n",
    "    \n",
    "    def delete(self, data):\n",
    "        # node : 현재 data의 노드\n",
    "        parent, node = self.get_node_with_parent(data)\n",
    "        \n",
    "        # 부모 노드, 자식 노드가 없으면 False 반환\n",
    "        if parent is None and node is None:\n",
    "            return False\n",
    "        \n",
    "        # 자식의 노드의 수를 센다.\n",
    "        children_count = 0\n",
    "        if node.left and node.right:\n",
    "            children_count = 2\n",
    "        elif node.left is None and node.right is None:\n",
    "            children_count = 0\n",
    "        else:\n",
    "            children_count = 1\n",
    "                \n",
    "        # 자식 노드의 경우의 수에 따른 삭제\n",
    "        if children_count == 0:\n",
    "            if parent: # 부모 노드가 존재하는 경우\n",
    "                if parent.right is node:\n",
    "                    parent.right = None\n",
    "                else:\n",
    "                    parent.left = None\n",
    "                del node\n",
    "                    \n",
    "            else: # 부모 노드가 존재하지 않는 경우\n",
    "                # 는 루트 노드밖에 없음.\n",
    "                self.root_node = None\n",
    "            \n",
    "        elif children_count ==1:\n",
    "            # next_node : 현재노드의 자식노드와\n",
    "            # 부모 노드를 연결하기 위한 변수\n",
    "            next_node = None\n",
    "            if node.left:\n",
    "                next_node = node.left\n",
    "            else:\n",
    "                next_node = node.right\n",
    "                \n",
    "            # 부모노드가 존재하는 경우\n",
    "            if parent:\n",
    "                if parent.left is node:\n",
    "                    parent.left = next_node\n",
    "                else:\n",
    "                    parent.right = next_node\n",
    "            else: # 루트노드인 경우\n",
    "                self.root_node = next_node\n",
    "            \n",
    "            # 현재 노드를 메모리 할당해제\n",
    "            del node\n",
    "            \n",
    "        else: # 자식 노드가 2개인 경우\n",
    "            # 부모 노드의 가장왼쪽 노드를 현재노드로 할당\n",
    "            parent_of_leftmost_node = node\n",
    "            # 가장왼쪽 노드를 현재노드의 오른쪽으로 할당\n",
    "            leftmost_node = node.right\n",
    "            while leftmost_node.left:\n",
    "                parent_of_leftmost_node = leftmost_node\n",
    "                leftmost_node = leftmost_node.left\n",
    "            node.data = leftmost_node.data\n",
    "            \n",
    "            if parent_of_leftmost_node.left == leftmost_node:\n",
    "                parent_of_leftmost_node.left = leftmost_node.right\n",
    "            else:\n",
    "                parent_of_leftmost_node.right = leftmost_node.right\n",
    "                print(\"정민소짱\")\n",
    "    \n",
    "    def search(self, data):\n",
    "        current = self.root_node\n",
    "        while True:\n",
    "            if current is None:\n",
    "                return None\n",
    "            elif current.data is data:\n",
    "                return data\n",
    "            elif current.data > data:\n",
    "                current = current.left\n",
    "            else:\n",
    "                current = current.right\n",
    "    \n",
    "    \n",
    "    def breadth_first_traversal(self, root_node):\n",
    "        checked_node_list = []\n",
    "        # 루트 노드 방문\n",
    "        queue = deque([root_node])\n",
    "        \n",
    "        while queue:\n",
    "            # 방문했으니 루트 노드 먼저 pop하고 append\n",
    "            for item in queue:\n",
    "                print(item, end=\" \")\n",
    "            print()\n",
    "            node = queue.popleft() \n",
    "            checked_node_list.append(node)\n",
    "            # 자식 노드들을 큐에 넣는다\n",
    "            if node.left: # 왼쪽 자식노드가 존재하면\n",
    "                queue.append(node.left)\n",
    "            if node.right: # 오른쪽 자식노드가 존재하면\n",
    "                queue.append(node.right)\n",
    "        return checked_node_list\n",
    "    \n",
    "\n",
    "# 큐에 있는 원소들\n",
    "# 1번째 반복 후 : [2, 8]\n",
    "# 2번째 반복 후 : [8, 1, 3]\n",
    "# 3번째 반복 후 : [1, 3, 5, 10]            "
   ]
  },
  {
   "cell_type": "code",
   "execution_count": 117,
   "id": "a4a2a02d",
   "metadata": {},
   "outputs": [],
   "source": [
    "n0 = TreeNode(4)\n",
    "n1 = TreeNode(2)\n",
    "n2 = TreeNode(8)\n",
    "n3 = TreeNode(1)\n",
    "n4 = TreeNode(3)\n",
    "n5 = TreeNode(5)\n",
    "n6 = TreeNode(10)\n",
    "\n",
    "# 0층\n",
    "n0.left = n1\n",
    "n0.right = n2\n",
    "\n",
    "# 1층\n",
    "n1.left = n3\n",
    "n1.right = n4\n",
    "n2.left = n5\n",
    "n2.right = n6\n",
    "\n",
    "# 2층\n",
    "# n3.left = n7\n",
    "# n3.right = n8\n",
    "\n",
    "# 3층\n",
    "# n7.left = n15\n",
    "# n7.right = n16\n",
    "# 이진트리에서 부모노드의 인덱스와 자식노드의 인덱스 관계식?\n",
    "# 자식노드의 인덱스는 부모노드의 인덱스의 2배+1, +2이다. \n",
    "\n"
   ]
  },
  {
   "cell_type": "code",
   "execution_count": 118,
   "id": "aa9dd866",
   "metadata": {},
   "outputs": [
    {
     "name": "stdout",
     "output_type": "stream",
     "text": [
      "4 \n",
      "2 8 \n",
      "8 1 3 \n",
      "1 3 5 10 \n",
      "3 5 10 \n",
      "5 10 \n",
      "10 \n",
      "4 2 8 1 3 5 10 "
     ]
    }
   ],
   "source": [
    "tree = Tree()\n",
    "result = tree.breadth_first_traversal(n0)\n",
    "for node in result:\n",
    "    print(node, end=\" \")"
   ]
  },
  {
   "cell_type": "code",
   "execution_count": 119,
   "id": "e341027b",
   "metadata": {},
   "outputs": [],
   "source": [
    "tree.root_node = n0"
   ]
  },
  {
   "cell_type": "code",
   "execution_count": 120,
   "id": "7c42946d",
   "metadata": {},
   "outputs": [
    {
     "name": "stdout",
     "output_type": "stream",
     "text": [
      "10\n",
      "1\n"
     ]
    }
   ],
   "source": [
    "print(tree.find_max())\n",
    "print(tree.find_min())"
   ]
  },
  {
   "cell_type": "code",
   "execution_count": 121,
   "id": "f68e86cd",
   "metadata": {},
   "outputs": [
    {
     "name": "stdout",
     "output_type": "stream",
     "text": [
      "4 \n",
      "1 6 \n",
      "6 3 \n",
      "3 5 9 \n",
      "5 9 2 \n",
      "9 2 \n",
      "2 8 \n",
      "8 \n",
      "7 \n",
      "4 1 6 3 5 9 2 8 7 "
     ]
    }
   ],
   "source": [
    "data = [4, 1, 3, 6, 9, 8, 2, 7, 5]\n",
    "\n",
    "tree2 = Tree()\n",
    "for item in data:\n",
    "    tree2.insert(item)\n",
    "\n",
    "lst = tree2.breadth_first_traversal(tree2.root_node)\n",
    "for node in lst:\n",
    "    print(node, end=\" \")\n",
    "    \n"
   ]
  },
  {
   "cell_type": "code",
   "execution_count": 122,
   "id": "f8e8c9aa",
   "metadata": {},
   "outputs": [
    {
     "name": "stdout",
     "output_type": "stream",
     "text": [
      "4 1 3 2 6 5 9 8 7 "
     ]
    }
   ],
   "source": [
    "tree2.root_node.preorder(tree2.root_node)"
   ]
  },
  {
   "cell_type": "code",
   "execution_count": 123,
   "id": "bc4e1e2d",
   "metadata": {},
   "outputs": [
    {
     "name": "stdout",
     "output_type": "stream",
     "text": [
      " __4_    \n",
      "/    \\   \n",
      "1_   6__ \n",
      "  \\ /   \\\n",
      "  3 5   9\n",
      " /     / \n",
      " 2     8 \n",
      "      /  \n",
      "      7  \n"
     ]
    }
   ],
   "source": [
    "tree2.root_node.display()"
   ]
  },
  {
   "cell_type": "code",
   "execution_count": 124,
   "id": "dee45aff",
   "metadata": {},
   "outputs": [
    {
     "name": "stdout",
     "output_type": "stream",
     "text": [
      " __4_   \n",
      "/    \\  \n",
      "1_   7_ \n",
      "  \\ /  \\\n",
      "  3 5  9\n",
      " /    / \n",
      " 2    8 \n"
     ]
    }
   ],
   "source": [
    "tree2.delete(6)\n",
    "tree2.root_node.display()"
   ]
  },
  {
   "cell_type": "code",
   "execution_count": 136,
   "id": "9862ffc6",
   "metadata": {},
   "outputs": [
    {
     "name": "stdout",
     "output_type": "stream",
     "text": [
      "    ___10_________         \n",
      "   /              \\        \n",
      "  _5_          __16_______ \n",
      " /   \\        /           \\\n",
      " 3   8     __13_       __20\n",
      "/ \\ / \\   /     \\     /    \n",
      "1 4 7 9  11_   14    18_   \n",
      "            \\       /   \\  \n",
      "           12      17  19  \n"
     ]
    }
   ],
   "source": [
    "data = [10, 5, 16, 3, 8, 13, 20, 1, 4, 7, 9, 11, 14, 18, 19, 12, 17]\n",
    "tree3 = Tree()\n",
    "for item in data:\n",
    "    tree3.insert(item)\n",
    "tree3.root_node.display()"
   ]
  },
  {
   "cell_type": "code",
   "execution_count": 137,
   "id": "68692385",
   "metadata": {},
   "outputs": [
    {
     "name": "stdout",
     "output_type": "stream",
     "text": [
      "    ___10_______         \n",
      "   /            \\        \n",
      "  _5_          16_______ \n",
      " /   \\        /         \\\n",
      " 3   8     __14      __20\n",
      "/ \\ / \\   /         /    \n",
      "1 4 7 9  11_       18_   \n",
      "            \\     /   \\  \n",
      "           12    17  19  \n"
     ]
    }
   ],
   "source": [
    "tree3.delete(13)\n",
    "tree3.root_node.display()"
   ]
  },
  {
   "cell_type": "code",
   "execution_count": 150,
   "id": "4bc779f3",
   "metadata": {},
   "outputs": [
    {
     "name": "stdout",
     "output_type": "stream",
     "text": [
      "  6  \n",
      " / \\ \n",
      " 2 7 \n",
      "/   \\\n",
      "1   9\n"
     ]
    }
   ],
   "source": [
    "tree4 = Tree()\n",
    "data = [6, 2, 7, 1, 9]\n",
    "for item in data:\n",
    "    tree4.insert(item)\n",
    "tree4.root_node.display()"
   ]
  },
  {
   "cell_type": "code",
   "execution_count": 151,
   "id": "7558bd86",
   "metadata": {},
   "outputs": [
    {
     "name": "stdout",
     "output_type": "stream",
     "text": [
      "정민소짱\n",
      "  7 \n",
      " / \\\n",
      " 2 9\n",
      "/   \n",
      "1   \n"
     ]
    }
   ],
   "source": [
    "tree4.delete(6)\n",
    "tree4.root_node.display()"
   ]
  },
  {
   "cell_type": "code",
   "execution_count": 154,
   "id": "e840fe48",
   "metadata": {},
   "outputs": [
    {
     "name": "stdout",
     "output_type": "stream",
     "text": [
      "9\n"
     ]
    }
   ],
   "source": [
    "found = tree4.search(9)\n",
    "print(found)"
   ]
  },
  {
   "cell_type": "code",
   "execution_count": null,
   "id": "944e4511",
   "metadata": {},
   "outputs": [],
   "source": []
  }
 ],
 "metadata": {
  "kernelspec": {
   "display_name": "Python 3 (ipykernel)",
   "language": "python",
   "name": "python3"
  },
  "language_info": {
   "codemirror_mode": {
    "name": "ipython",
    "version": 3
   },
   "file_extension": ".py",
   "mimetype": "text/x-python",
   "name": "python",
   "nbconvert_exporter": "python",
   "pygments_lexer": "ipython3",
   "version": "3.7.11"
  }
 },
 "nbformat": 4,
 "nbformat_minor": 5
}
